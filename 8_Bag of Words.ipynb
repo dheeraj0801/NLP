{
 "cells": [
  {
   "cell_type": "code",
   "execution_count": 65,
   "id": "2d621709",
   "metadata": {},
   "outputs": [],
   "source": [
    "import pandas as pd\n",
    "import numpy as np"
   ]
  },
  {
   "cell_type": "code",
   "execution_count": 2,
   "id": "04304706",
   "metadata": {},
   "outputs": [
    {
     "data": {
      "text/html": [
       "<div>\n",
       "<style scoped>\n",
       "    .dataframe tbody tr th:only-of-type {\n",
       "        vertical-align: middle;\n",
       "    }\n",
       "\n",
       "    .dataframe tbody tr th {\n",
       "        vertical-align: top;\n",
       "    }\n",
       "\n",
       "    .dataframe thead th {\n",
       "        text-align: right;\n",
       "    }\n",
       "</style>\n",
       "<table border=\"1\" class=\"dataframe\">\n",
       "  <thead>\n",
       "    <tr style=\"text-align: right;\">\n",
       "      <th></th>\n",
       "      <th>Category</th>\n",
       "      <th>Message</th>\n",
       "    </tr>\n",
       "  </thead>\n",
       "  <tbody>\n",
       "    <tr>\n",
       "      <th>0</th>\n",
       "      <td>ham</td>\n",
       "      <td>Go until jurong point, crazy.. Available only ...</td>\n",
       "    </tr>\n",
       "    <tr>\n",
       "      <th>1</th>\n",
       "      <td>ham</td>\n",
       "      <td>Ok lar... Joking wif u oni...</td>\n",
       "    </tr>\n",
       "    <tr>\n",
       "      <th>2</th>\n",
       "      <td>spam</td>\n",
       "      <td>Free entry in 2 a wkly comp to win FA Cup fina...</td>\n",
       "    </tr>\n",
       "    <tr>\n",
       "      <th>3</th>\n",
       "      <td>ham</td>\n",
       "      <td>U dun say so early hor... U c already then say...</td>\n",
       "    </tr>\n",
       "    <tr>\n",
       "      <th>4</th>\n",
       "      <td>ham</td>\n",
       "      <td>Nah I don't think he goes to usf, he lives aro...</td>\n",
       "    </tr>\n",
       "  </tbody>\n",
       "</table>\n",
       "</div>"
      ],
      "text/plain": [
       "  Category                                            Message\n",
       "0      ham  Go until jurong point, crazy.. Available only ...\n",
       "1      ham                      Ok lar... Joking wif u oni...\n",
       "2     spam  Free entry in 2 a wkly comp to win FA Cup fina...\n",
       "3      ham  U dun say so early hor... U c already then say...\n",
       "4      ham  Nah I don't think he goes to usf, he lives aro..."
      ]
     },
     "execution_count": 2,
     "metadata": {},
     "output_type": "execute_result"
    }
   ],
   "source": [
    "df=pd.read_csv('spam.csv')\n",
    "df.head()"
   ]
  },
  {
   "cell_type": "code",
   "execution_count": 4,
   "id": "ba7a7292",
   "metadata": {},
   "outputs": [
    {
     "data": {
      "text/plain": [
       "ham     4825\n",
       "spam     747\n",
       "Name: Category, dtype: int64"
      ]
     },
     "execution_count": 4,
     "metadata": {},
     "output_type": "execute_result"
    }
   ],
   "source": [
    "df.Category.value_counts()"
   ]
  },
  {
   "cell_type": "code",
   "execution_count": 5,
   "id": "1049de72",
   "metadata": {},
   "outputs": [],
   "source": [
    "df['spam']=df['Category'].apply(lambda x: 1 if x=='spam' else 0)"
   ]
  },
  {
   "cell_type": "code",
   "execution_count": 6,
   "id": "42ee7d95",
   "metadata": {},
   "outputs": [
    {
     "data": {
      "text/html": [
       "<div>\n",
       "<style scoped>\n",
       "    .dataframe tbody tr th:only-of-type {\n",
       "        vertical-align: middle;\n",
       "    }\n",
       "\n",
       "    .dataframe tbody tr th {\n",
       "        vertical-align: top;\n",
       "    }\n",
       "\n",
       "    .dataframe thead th {\n",
       "        text-align: right;\n",
       "    }\n",
       "</style>\n",
       "<table border=\"1\" class=\"dataframe\">\n",
       "  <thead>\n",
       "    <tr style=\"text-align: right;\">\n",
       "      <th></th>\n",
       "      <th>Category</th>\n",
       "      <th>Message</th>\n",
       "      <th>spam</th>\n",
       "    </tr>\n",
       "  </thead>\n",
       "  <tbody>\n",
       "    <tr>\n",
       "      <th>0</th>\n",
       "      <td>ham</td>\n",
       "      <td>Go until jurong point, crazy.. Available only ...</td>\n",
       "      <td>0</td>\n",
       "    </tr>\n",
       "    <tr>\n",
       "      <th>1</th>\n",
       "      <td>ham</td>\n",
       "      <td>Ok lar... Joking wif u oni...</td>\n",
       "      <td>0</td>\n",
       "    </tr>\n",
       "    <tr>\n",
       "      <th>2</th>\n",
       "      <td>spam</td>\n",
       "      <td>Free entry in 2 a wkly comp to win FA Cup fina...</td>\n",
       "      <td>1</td>\n",
       "    </tr>\n",
       "    <tr>\n",
       "      <th>3</th>\n",
       "      <td>ham</td>\n",
       "      <td>U dun say so early hor... U c already then say...</td>\n",
       "      <td>0</td>\n",
       "    </tr>\n",
       "    <tr>\n",
       "      <th>4</th>\n",
       "      <td>ham</td>\n",
       "      <td>Nah I don't think he goes to usf, he lives aro...</td>\n",
       "      <td>0</td>\n",
       "    </tr>\n",
       "  </tbody>\n",
       "</table>\n",
       "</div>"
      ],
      "text/plain": [
       "  Category                                            Message  spam\n",
       "0      ham  Go until jurong point, crazy.. Available only ...     0\n",
       "1      ham                      Ok lar... Joking wif u oni...     0\n",
       "2     spam  Free entry in 2 a wkly comp to win FA Cup fina...     1\n",
       "3      ham  U dun say so early hor... U c already then say...     0\n",
       "4      ham  Nah I don't think he goes to usf, he lives aro...     0"
      ]
     },
     "execution_count": 6,
     "metadata": {},
     "output_type": "execute_result"
    }
   ],
   "source": [
    "df.head()"
   ]
  },
  {
   "cell_type": "code",
   "execution_count": 7,
   "id": "3ca64759",
   "metadata": {},
   "outputs": [],
   "source": [
    "from sklearn.model_selection import train_test_split\n",
    "\n",
    "X_train,X_test,y_train,y_test=train_test_split(df.Message,df.spam,test_size=0.2)"
   ]
  },
  {
   "cell_type": "code",
   "execution_count": 8,
   "id": "4e20de9d",
   "metadata": {},
   "outputs": [
    {
     "data": {
      "text/plain": [
       "(4457,)"
      ]
     },
     "execution_count": 8,
     "metadata": {},
     "output_type": "execute_result"
    }
   ],
   "source": [
    "X_train.shape"
   ]
  },
  {
   "cell_type": "code",
   "execution_count": 9,
   "id": "7dd7174f",
   "metadata": {},
   "outputs": [
    {
     "data": {
      "text/plain": [
       "(1115,)"
      ]
     },
     "execution_count": 9,
     "metadata": {},
     "output_type": "execute_result"
    }
   ],
   "source": [
    "X_test.shape"
   ]
  },
  {
   "cell_type": "code",
   "execution_count": 10,
   "id": "6bffc6e1",
   "metadata": {},
   "outputs": [
    {
     "data": {
      "text/plain": [
       "(4457,)"
      ]
     },
     "execution_count": 10,
     "metadata": {},
     "output_type": "execute_result"
    }
   ],
   "source": [
    "y_train.shape"
   ]
  },
  {
   "cell_type": "code",
   "execution_count": 11,
   "id": "170940d1",
   "metadata": {},
   "outputs": [
    {
     "data": {
      "text/plain": [
       "(1115,)"
      ]
     },
     "execution_count": 11,
     "metadata": {},
     "output_type": "execute_result"
    }
   ],
   "source": [
    "y_test.shape"
   ]
  },
  {
   "cell_type": "code",
   "execution_count": 12,
   "id": "7f50ef99",
   "metadata": {},
   "outputs": [
    {
     "data": {
      "text/plain": [
       "pandas.core.series.Series"
      ]
     },
     "execution_count": 12,
     "metadata": {},
     "output_type": "execute_result"
    }
   ],
   "source": [
    "type(X_train)"
   ]
  },
  {
   "cell_type": "code",
   "execution_count": 13,
   "id": "d45b1b88",
   "metadata": {},
   "outputs": [
    {
     "data": {
      "text/plain": [
       "3255               I can make lasagna for you... vodka...\n",
       "1421            No. She's currently in scotland for that.\n",
       "2846           Will be out of class in a few hours. Sorry\n",
       "3104    U so lousy, run already come back then half de...\n",
       "Name: Message, dtype: object"
      ]
     },
     "execution_count": 13,
     "metadata": {},
     "output_type": "execute_result"
    }
   ],
   "source": [
    "X_train[:4]"
   ]
  },
  {
   "cell_type": "code",
   "execution_count": 14,
   "id": "356fe66d",
   "metadata": {},
   "outputs": [
    {
     "data": {
      "text/plain": [
       "pandas.core.series.Series"
      ]
     },
     "execution_count": 14,
     "metadata": {},
     "output_type": "execute_result"
    }
   ],
   "source": [
    "type(y_train)"
   ]
  },
  {
   "cell_type": "code",
   "execution_count": 15,
   "id": "faf9891b",
   "metadata": {},
   "outputs": [
    {
     "data": {
      "text/plain": [
       "3255    0\n",
       "1421    0\n",
       "2846    0\n",
       "3104    0\n",
       "Name: spam, dtype: int64"
      ]
     },
     "execution_count": 15,
     "metadata": {},
     "output_type": "execute_result"
    }
   ],
   "source": [
    "y_train[:4]"
   ]
  },
  {
   "cell_type": "code",
   "execution_count": 17,
   "id": "f77fd8e0",
   "metadata": {},
   "outputs": [
    {
     "data": {
      "text/plain": [
       "<4457x7834 sparse matrix of type '<class 'numpy.int64'>'\n",
       "\twith 59373 stored elements in Compressed Sparse Row format>"
      ]
     },
     "execution_count": 17,
     "metadata": {},
     "output_type": "execute_result"
    }
   ],
   "source": [
    "from sklearn.feature_extraction.text import CountVectorizer\n",
    "\n",
    "v=CountVectorizer()\n",
    "\n",
    "X_train_cv=v.fit_transform(X_train.values)\n",
    "X_train_cv"
   ]
  },
  {
   "cell_type": "code",
   "execution_count": 19,
   "id": "6fcb83f9",
   "metadata": {},
   "outputs": [
    {
     "data": {
      "text/plain": [
       "array([[0, 0, 0, ..., 0, 0, 0],\n",
       "       [0, 0, 0, ..., 0, 0, 0]], dtype=int64)"
      ]
     },
     "execution_count": 19,
     "metadata": {},
     "output_type": "execute_result"
    }
   ],
   "source": [
    "X_train_cv.toarray()[:2]"
   ]
  },
  {
   "cell_type": "code",
   "execution_count": 20,
   "id": "0fbb51d0",
   "metadata": {},
   "outputs": [
    {
     "data": {
      "text/plain": [
       "(4457, 7834)"
      ]
     },
     "execution_count": 20,
     "metadata": {},
     "output_type": "execute_result"
    }
   ],
   "source": [
    "X_train_cv.shape"
   ]
  },
  {
   "cell_type": "markdown",
   "id": "a9604d7c",
   "metadata": {},
   "source": [
    "### There are 7834 different words in whole mails"
   ]
  },
  {
   "cell_type": "code",
   "execution_count": 22,
   "id": "6eaa5bf2",
   "metadata": {},
   "outputs": [
    {
     "data": {
      "text/plain": [
       "array(['annoying', 'anonymous', 'anot', 'another', 'ans', 'ansr',\n",
       "       'answer', 'answered', 'answerin', 'answering', 'answers', 'answr',\n",
       "       'antelope', 'anthony', 'anti', 'antibiotic', 'any', 'anybody',\n",
       "       'anyhow', 'anymore', 'anyone', 'anyones', 'anyplaces', 'anythiing',\n",
       "       'anythin', 'anything', 'anytime', 'anyway', 'anyways', 'anywhere'],\n",
       "      dtype=object)"
      ]
     },
     "execution_count": 22,
     "metadata": {},
     "output_type": "execute_result"
    }
   ],
   "source": [
    "v.get_feature_names_out()[1000:1030]"
   ]
  },
  {
   "cell_type": "code",
   "execution_count": 23,
   "id": "09396d48",
   "metadata": {},
   "outputs": [
    {
     "data": {
      "text/plain": [
       "['__annotations__',\n",
       " '__class__',\n",
       " '__delattr__',\n",
       " '__dict__',\n",
       " '__dir__',\n",
       " '__doc__',\n",
       " '__eq__',\n",
       " '__format__',\n",
       " '__ge__',\n",
       " '__getattribute__',\n",
       " '__getstate__',\n",
       " '__gt__',\n",
       " '__hash__',\n",
       " '__init__',\n",
       " '__init_subclass__',\n",
       " '__le__',\n",
       " '__lt__',\n",
       " '__module__',\n",
       " '__ne__',\n",
       " '__new__',\n",
       " '__reduce__',\n",
       " '__reduce_ex__',\n",
       " '__repr__',\n",
       " '__setattr__',\n",
       " '__setstate__',\n",
       " '__sizeof__',\n",
       " '__str__',\n",
       " '__subclasshook__',\n",
       " '__weakref__',\n",
       " '_char_ngrams',\n",
       " '_char_wb_ngrams',\n",
       " '_check_feature_names',\n",
       " '_check_n_features',\n",
       " '_check_stop_words_consistency',\n",
       " '_check_vocabulary',\n",
       " '_count_vocab',\n",
       " '_get_param_names',\n",
       " '_get_tags',\n",
       " '_limit_features',\n",
       " '_more_tags',\n",
       " '_parameter_constraints',\n",
       " '_repr_html_',\n",
       " '_repr_html_inner',\n",
       " '_repr_mimebundle_',\n",
       " '_sort_features',\n",
       " '_stop_words_id',\n",
       " '_validate_data',\n",
       " '_validate_ngram_range',\n",
       " '_validate_params',\n",
       " '_validate_vocabulary',\n",
       " '_warn_for_unused_params',\n",
       " '_white_spaces',\n",
       " '_word_ngrams',\n",
       " 'analyzer',\n",
       " 'binary',\n",
       " 'build_analyzer',\n",
       " 'build_preprocessor',\n",
       " 'build_tokenizer',\n",
       " 'decode',\n",
       " 'decode_error',\n",
       " 'dtype',\n",
       " 'encoding',\n",
       " 'fit',\n",
       " 'fit_transform',\n",
       " 'fixed_vocabulary_',\n",
       " 'get_feature_names_out',\n",
       " 'get_params',\n",
       " 'get_stop_words',\n",
       " 'input',\n",
       " 'inverse_transform',\n",
       " 'lowercase',\n",
       " 'max_df',\n",
       " 'max_features',\n",
       " 'min_df',\n",
       " 'ngram_range',\n",
       " 'preprocessor',\n",
       " 'set_params',\n",
       " 'stop_words',\n",
       " 'stop_words_',\n",
       " 'strip_accents',\n",
       " 'token_pattern',\n",
       " 'tokenizer',\n",
       " 'transform',\n",
       " 'vocabulary',\n",
       " 'vocabulary_']"
      ]
     },
     "execution_count": 23,
     "metadata": {},
     "output_type": "execute_result"
    }
   ],
   "source": [
    "dir(v)"
   ]
  },
  {
   "cell_type": "code",
   "execution_count": 25,
   "id": "1ceb2c0b",
   "metadata": {},
   "outputs": [
    {
     "data": {
      "text/plain": [
       "{'can': 1660,\n",
       " 'make': 4382,\n",
       " 'lasagna': 4074,\n",
       " 'for': 2986,\n",
       " 'you': 7796,\n",
       " 'vodka': 7410,\n",
       " 'no': 4860,\n",
       " 'she': 6156,\n",
       " 'currently': 2161,\n",
       " 'in': 3697,\n",
       " 'scotland': 6030,\n",
       " 'that': 6901,\n",
       " 'will': 7614,\n",
       " 'be': 1298,\n",
       " 'out': 5073,\n",
       " 'of': 4955,\n",
       " 'class': 1863,\n",
       " 'few': 2871,\n",
       " 'hours': 3573,\n",
       " 'sorry': 6421,\n",
       " 'so': 6371,\n",
       " 'lousy': 4278,\n",
       " 'run': 5931,\n",
       " 'already': 946,\n",
       " 'come': 1940,\n",
       " 'back': 1222,\n",
       " 'then': 6916,\n",
       " 'half': 3361,\n",
       " 'dead': 2231,\n",
       " 'hee': 3448,\n",
       " 'headin': 3429,\n",
       " 'towards': 7086,\n",
       " 'busetop': 1602,\n",
       " 'still': 6575,\n",
       " 'chance': 1752,\n",
       " 'there': 6921,\n",
       " 'if': 3658,\n",
       " 'search': 6046,\n",
       " 'hard': 3393,\n",
       " 'get': 3169,\n",
       " 'it': 3808,\n",
       " 'let': 4137,\n",
       " 'have': 3416,\n",
       " 'try': 7144,\n",
       " 'huh': 3603,\n",
       " 'early': 2550,\n",
       " 'having': 3421,\n",
       " 'dinner': 2372,\n",
       " 'outside': 5080,\n",
       " 'izzit': 3825,\n",
       " 'here': 3471,\n",
       " 'is': 3797,\n",
       " 'your': 7800,\n",
       " 'discount': 2393,\n",
       " 'code': 1914,\n",
       " 'rp176781': 5908,\n",
       " 'to': 7015,\n",
       " 'stop': 6586,\n",
       " 'further': 3103,\n",
       " 'messages': 4519,\n",
       " 'reply': 5788,\n",
       " 'www': 7730,\n",
       " 'regalportfolio': 5734,\n",
       " 'co': 1904,\n",
       " 'uk': 7207,\n",
       " 'customer': 2167,\n",
       " 'services': 6112,\n",
       " '08717205546': 133,\n",
       " 'like': 4163,\n",
       " 'peoples': 5204,\n",
       " 'very': 7364,\n",
       " 'much': 4699,\n",
       " 'but': 1606,\n",
       " 'am': 957,\n",
       " 'shy': 6227,\n",
       " 'pa': 5101,\n",
       " 'telling': 6847,\n",
       " 'me': 4466,\n",
       " 'coulda': 2065,\n",
       " 'been': 1318,\n",
       " 'real': 5672,\n",
       " 'valentine': 7332,\n",
       " 'and': 984,\n",
       " 'wasn': 7488,\n",
       " 'never': 4818,\n",
       " 'pick': 5264,\n",
       " 'nothing': 4899,\n",
       " 'hmm': 3513,\n",
       " 'ill': 3670,\n",
       " 'think': 6935,\n",
       " 'about': 775,\n",
       " 'ok': 4979,\n",
       " 're': 5661,\n",
       " 'forgiven': 2997,\n",
       " 'asked': 1118,\n",
       " 'how': 3579,\n",
       " 'anthony': 1013,\n",
       " 'dad': 2187,\n",
       " 'bf': 1367,\n",
       " 'lol': 4239,\n",
       " 'please': 5316,\n",
       " 'do': 2415,\n",
       " 'actually': 828,\n",
       " 'send': 6089,\n",
       " 'pic': 5263,\n",
       " 'yourself': 7805,\n",
       " 'right': 5857,\n",
       " 'now': 4909,\n",
       " 'wanna': 7470,\n",
       " 'see': 6062,\n",
       " 'pose': 5385,\n",
       " 'with': 7641,\n",
       " 'comb': 1937,\n",
       " 'hair': 3357,\n",
       " 'dryer': 2516,\n",
       " 'or': 5037,\n",
       " 'something': 6395,\n",
       " 'what': 7568,\n",
       " 'hello': 3457,\n",
       " 'wats': 7504,\n",
       " 'talks': 6791,\n",
       " 'email': 2617,\n",
       " 'address': 837,\n",
       " 'was': 7486,\n",
       " 'thinking': 6938,\n",
       " 'chuckin': 1847,\n",
       " 'ur': 7290,\n",
       " 'red': 5719,\n",
       " 'green': 3298,\n",
       " 'black': 1405,\n",
       " 'trainners': 7098,\n",
       " 'save': 6002,\n",
       " 'carryin': 1699,\n",
       " 'them': 6912,\n",
       " 'bac': 1221,\n",
       " 'on': 5000,\n",
       " 'train': 7095,\n",
       " 'usually': 7318,\n",
       " 'the': 6905,\n",
       " 'person': 5222,\n",
       " 'unconscious': 7227,\n",
       " 'children': 1816,\n",
       " 'adults': 854,\n",
       " 'they': 6928,\n",
       " 'may': 4457,\n",
       " 'just': 3927,\n",
       " 'behave': 1331,\n",
       " 'abnormally': 774,\n",
       " 'll': 4213,\n",
       " 'call': 1635,\n",
       " 'cancelled': 1666,\n",
       " 'yeah': 7769,\n",
       " 'baby': 1216,\n",
       " 'well': 7547,\n",
       " 'sounds': 6432,\n",
       " 'important': 3687,\n",
       " 'understand': 7234,\n",
       " 'my': 4727,\n",
       " 'darlin': 2207,\n",
       " 'give': 3195,\n",
       " 'ring': 5862,\n",
       " 'later': 4081,\n",
       " 'this': 6942,\n",
       " 'fone': 2974,\n",
       " 'love': 4281,\n",
       " 'kate': 3955,\n",
       " 'easy': 2561,\n",
       " 'ah': 894,\n",
       " 'sen': 6088,\n",
       " 'got': 3255,\n",
       " 'selected': 6075,\n",
       " 'means': 4472,\n",
       " 'its': 3816,\n",
       " 'good': 3237,\n",
       " 'we': 7512,\n",
       " 'not': 4895,\n",
       " 'leaving': 4115,\n",
       " 'yet': 7783,\n",
       " 'lor': 4259,\n",
       " 'go': 3211,\n",
       " 'elsewhere': 2614,\n",
       " 'eat': 2562,\n",
       " 'thk': 6943,\n",
       " 'are': 1070,\n",
       " 'really': 5679,\n",
       " 'up': 7272,\n",
       " 'masters': 4434,\n",
       " 'literally': 4203,\n",
       " 'bed': 1314,\n",
       " 'lt': 4304,\n",
       " 'gt': 3318,\n",
       " 'cant': 1672,\n",
       " 'phone': 5250,\n",
       " 'pls': 5324,\n",
       " 'message': 4517,\n",
       " 'anything': 1025,\n",
       " 'could': 2064,\n",
       " 'seen': 6069,\n",
       " 'did': 2343,\n",
       " 'recognise': 5708,\n",
       " 'face': 2793,\n",
       " 'called': 1642,\n",
       " 'tool': 7058,\n",
       " '2nd': 411,\n",
       " 'time': 6985,\n",
       " 'tried': 7125,\n",
       " 'contact': 2013,\n",
       " 'won': 7669,\n",
       " '1450': 307,\n",
       " 'prize': 5494,\n",
       " 'claim': 1854,\n",
       " '09053750005': 175,\n",
       " 'b4': 1205,\n",
       " '310303': 447,\n",
       " 'cs': 2130,\n",
       " 'sms': 6352,\n",
       " '08718725756': 142,\n",
       " '140ppm': 305,\n",
       " 'which': 7584,\n",
       " 'worse': 7697,\n",
       " 'bishan': 1396,\n",
       " 'lei': 4124,\n",
       " 'tot': 7077,\n",
       " 'say': 6007,\n",
       " 'lavender': 4092,\n",
       " 'hi': 3483,\n",
       " 'engagement': 2641,\n",
       " 'has': 3403,\n",
       " 'fixd': 2929,\n",
       " 'th': 6889,\n",
       " 'next': 4831,\n",
       " 'month': 4643,\n",
       " 'know': 4013,\n",
       " 'shocking': 6186,\n",
       " 'bt': 1574,\n",
       " 'njan': 4858,\n",
       " 'vilikkam': 7382,\n",
       " 'ws': 7719,\n",
       " 'al': 917,\n",
       " 'sudn': 6670,\n",
       " 'hack': 3349,\n",
       " 'chat': 1774,\n",
       " 'backdoor': 1223,\n",
       " 'entry': 2662,\n",
       " 'into': 3768,\n",
       " '121': 291,\n",
       " 'rooms': 5896,\n",
       " 'at': 1140,\n",
       " 'fraction': 3020,\n",
       " 'cost': 2057,\n",
       " 'neo69': 4806,\n",
       " '09050280520': 174,\n",
       " 'subscribe': 6652,\n",
       " '25p': 377,\n",
       " 'pm': 5330,\n",
       " 'dps': 2476,\n",
       " 'bcm': 1289,\n",
       " 'box': 1486,\n",
       " '8027': 656,\n",
       " 'ldn': 4102,\n",
       " 'wc1n3xx': 7511,\n",
       " 'also': 949,\n",
       " 'maaaan': 4345,\n",
       " 'missing': 4577,\n",
       " 'should': 6203,\n",
       " 'take': 6778,\n",
       " 'min': 4545,\n",
       " 'gud': 3324,\n",
       " 'ni8': 4833,\n",
       " 'dear': 2236,\n",
       " 'slp': 6326,\n",
       " 'care': 1681,\n",
       " 'swt': 6753,\n",
       " 'dreams': 2487,\n",
       " 'muah': 4698,\n",
       " 'resume': 5830,\n",
       " 'home': 3533,\n",
       " 'after': 875,\n",
       " 'an': 980,\n",
       " 'hour': 3571,\n",
       " 'addie': 835,\n",
       " 'amp': 972,\n",
       " 'doing': 2439,\n",
       " 'some': 6385,\n",
       " 'art': 1102,\n",
       " 'when': 7575,\n",
       " 'cry': 2128,\n",
       " 'all': 934,\n",
       " 'our': 5071,\n",
       " 'stuff': 6634,\n",
       " 'happens': 3387,\n",
       " 'top': 7064,\n",
       " 'everything': 2723,\n",
       " 'else': 2613,\n",
       " 'pushes': 5577,\n",
       " 'over': 5085,\n",
       " 'edge': 2572,\n",
       " 'don': 2449,\n",
       " 'underdtand': 7233,\n",
       " 'often': 4971,\n",
       " 'life': 4152,\n",
       " 'he': 3426,\n",
       " 'neva': 4816,\n",
       " 'grumble': 3316,\n",
       " 'sad': 5949,\n",
       " 'buy': 1611,\n",
       " 'tmr': 7009,\n",
       " 'aft': 874,\n",
       " 'lunch': 4317,\n",
       " 'meetin': 4485,\n",
       " 'hear': 3437,\n",
       " 'fr': 3019,\n",
       " 'lot': 4267,\n",
       " 'work': 7684,\n",
       " 'ar': 1064,\n",
       " 'great': 3293,\n",
       " 'hope': 3547,\n",
       " 'man': 4391,\n",
       " 'endowed': 2635,\n",
       " 'inches': 3701,\n",
       " 'chillin': 1821,\n",
       " 'any': 1016,\n",
       " 'super': 6703,\n",
       " 'bowl': 1484,\n",
       " 'plan': 5299,\n",
       " 'freemsg': 3037,\n",
       " 'txt': 7182,\n",
       " '86888': 700,\n",
       " 'reward': 5845,\n",
       " 'talk': 6786,\n",
       " 'use': 7307,\n",
       " 'from': 3069,\n",
       " 'subscribe6gbp': 6653,\n",
       " 'mnth': 4604,\n",
       " 'inc': 3699,\n",
       " '3hrs': 470,\n",
       " '16': 325,\n",
       " 'txtstop': 7191,\n",
       " 'tap': 6798,\n",
       " 'spile': 6471,\n",
       " 'seven': 6120,\n",
       " 'pub': 5554,\n",
       " 'gas': 3135,\n",
       " 'st': 6516,\n",
       " 'off': 4957,\n",
       " 'broad': 1551,\n",
       " 'by': 1620,\n",
       " 'canal': 1662,\n",
       " 'service': 6111,\n",
       " 'representative': 5793,\n",
       " 'freephone': 3038,\n",
       " '0808': 59,\n",
       " '145': 306,\n",
       " '4742': 513,\n",
       " 'between': 1362,\n",
       " '9am': 751,\n",
       " '11pm': 288,\n",
       " 'as': 1107,\n",
       " 'guaranteed': 3322,\n",
       " '1000': 268,\n",
       " 'cash': 1704,\n",
       " '5000': 547,\n",
       " 'part': 5150,\n",
       " 'checking': 1784,\n",
       " 'iq': 3788,\n",
       " 'waking': 7453,\n",
       " 'until': 7270,\n",
       " 'afternoon': 877,\n",
       " 'sup': 6702,\n",
       " 'thanks': 6894,\n",
       " 'tomo': 7039,\n",
       " 'latest': 4082,\n",
       " 'scrounge': 6040,\n",
       " 'ammo': 967,\n",
       " 'want': 7472,\n",
       " 'new': 4822,\n",
       " 'ak': 915,\n",
       " 'girl': 3190,\n",
       " 'propose': 5534,\n",
       " 'today': 7021,\n",
       " 'seing': 6073,\n",
       " 'bloody': 1430,\n",
       " 'funky': 3099,\n",
       " 'shit': 6177,\n",
       " 'fucking': 3082,\n",
       " 'asssssholeeee': 1130,\n",
       " 'busy': 1605,\n",
       " 'trying': 7146,\n",
       " 'finish': 2910,\n",
       " 'year': 7770,\n",
       " 'looking': 4252,\n",
       " 'forward': 3009,\n",
       " 'finally': 2902,\n",
       " 'meeting': 4486,\n",
       " 'ringtone': 5865,\n",
       " 'club': 1890,\n",
       " 'gr8': 3267,\n",
       " 'polys': 5366,\n",
       " 'direct': 2377,\n",
       " 'mobile': 4610,\n",
       " 'every': 2715,\n",
       " 'week': 7532,\n",
       " '88800': 717,\n",
       " '89034': 720,\n",
       " 'premium': 5447,\n",
       " '08718711108': 139,\n",
       " 'money': 4637,\n",
       " 'da': 2183,\n",
       " 'probably': 5499,\n",
       " 'earlier': 2548,\n",
       " 'than': 6890,\n",
       " 'yours': 7804,\n",
       " 'mins': 4560,\n",
       " 'look': 4248,\n",
       " 'guess': 3328,\n",
       " 'who': 7590,\n",
       " 'spent': 6467,\n",
       " 'last': 4075,\n",
       " 'night': 4842,\n",
       " 'phasing': 5241,\n",
       " 'fourth': 3015,\n",
       " 'dimension': 2365,\n",
       " 'raji': 5628,\n",
       " 'favour': 2845,\n",
       " 'convey': 2031,\n",
       " 'birthday': 1395,\n",
       " 'wishes': 7636,\n",
       " 'nimya': 4849,\n",
       " 'her': 3470,\n",
       " 'though': 6953,\n",
       " 'shd': 6155,\n",
       " 'fun': 3092,\n",
       " 'bar': 1252,\n",
       " 'town': 7087,\n",
       " 'sound': 6430,\n",
       " 'babe': 1213,\n",
       " 'lost': 4266,\n",
       " 'two': 7181,\n",
       " 'more': 4650,\n",
       " 'cartons': 1701,\n",
       " 'pleased': 5317,\n",
       " 'shelves': 6162,\n",
       " 'thx': 6973,\n",
       " 'months': 4646,\n",
       " 'denying': 2296,\n",
       " 'words': 7683,\n",
       " 'mathews': 4443,\n",
       " 'tait': 6775,\n",
       " 'edwards': 2582,\n",
       " 'anderson': 985,\n",
       " 'different': 2356,\n",
       " 'styles': 6641,\n",
       " 'best': 1353,\n",
       " 'congrats': 1998,\n",
       " 'cud': 2145,\n",
       " 'tell': 6846,\n",
       " 'ppl': 5414,\n",
       " 'im': 3674,\n",
       " 'gona': 3232,\n",
       " 'bit': 1397,\n",
       " 'l8': 4034,\n",
       " 'cos': 2055,\n",
       " 'buses': 1601,\n",
       " 'hav': 3412,\n",
       " 'gon': 3231,\n",
       " 'past': 5168,\n",
       " 'were': 7555,\n",
       " 'full': 3089,\n",
       " 'waitin': 7450,\n",
       " 'pete': 5233,\n",
       " 'film': 2895,\n",
       " 'accept': 793,\n",
       " 'day': 2223,\n",
       " 'brother': 1559,\n",
       " 'sister': 6269,\n",
       " 'lover': 4286,\n",
       " 'dear1': 2237,\n",
       " 'best1': 1354,\n",
       " 'clos1': 1881,\n",
       " 'lvblefrnd': 4328,\n",
       " 'jstfrnd': 3911,\n",
       " 'cutefrnd': 2173,\n",
       " 'lifpartnr': 4156,\n",
       " 'belovd': 1343,\n",
       " 'swtheart': 6754,\n",
       " 'bstfrnd': 1573,\n",
       " 'rply': 5910,\n",
       " 'enemy': 2638,\n",
       " 'offer': 4961,\n",
       " 'double': 2463,\n",
       " 'orange': 5041,\n",
       " 'tariffs': 6800,\n",
       " 'camera': 1656,\n",
       " 'phones': 5254,\n",
       " 'free': 3031,\n",
       " 'mobileupd8': 4614,\n",
       " '08000839402': 50,\n",
       " '2stoptxt': 421,\n",
       " 'urgent': 7294,\n",
       " 'awarded': 1195,\n",
       " '2000': 352,\n",
       " 'bonus': 1454,\n",
       " 'caller': 1643,\n",
       " '03': 13,\n",
       " 'final': 2900,\n",
       " 'landline': 4057,\n",
       " '09064019788': 222,\n",
       " 'box42wr29c': 1496,\n",
       " '150ppm': 318,\n",
       " 've': 7350,\n",
       " 'reach': 5662,\n",
       " 'him': 3493,\n",
       " 'without': 7645,\n",
       " 'success': 6662,\n",
       " 'school': 6021,\n",
       " 'starting': 6537,\n",
       " 'where': 7579,\n",
       " 'stay': 6548,\n",
       " 'weather': 7519,\n",
       " 'food': 2977,\n",
       " 'social': 6373,\n",
       " 'support': 6712,\n",
       " 'system': 6762,\n",
       " 'friends': 3053,\n",
       " 'these': 6923,\n",
       " 'things': 6934,\n",
       " 'winner': 7626,\n",
       " 'specially': 6455,\n",
       " 'receive': 5696,\n",
       " 'holiday': 3528,\n",
       " 'flights': 2943,\n",
       " 'speak': 6449,\n",
       " 'live': 4205,\n",
       " 'operator': 5025,\n",
       " '0871277810810': 118,\n",
       " 'too': 7055,\n",
       " 'grooved': 3306,\n",
       " 'pound': 5407,\n",
       " 'special': 6451,\n",
       " 'happy': 3392,\n",
       " 'years': 7771,\n",
       " 'melody': 4496,\n",
       " 'meet': 4484,\n",
       " 'corporation': 2049,\n",
       " 'gap': 3127,\n",
       " 'mind': 4548,\n",
       " 'working': 7688,\n",
       " 'oh': 4974,\n",
       " 'way': 7508,\n",
       " 'fridge': 3050,\n",
       " 'meal': 4467,\n",
       " 'tonight': 7050,\n",
       " 'infront': 3732,\n",
       " 'avatar': 1180,\n",
       " 'supposed': 6714,\n",
       " 'subtoitles': 6661,\n",
       " 'yes': 7780,\n",
       " 'princess': 5483,\n",
       " 'common': 1950,\n",
       " 'hearin': 3439,\n",
       " 'wat': 7493,\n",
       " 'ask': 1116,\n",
       " 'smile': 6341,\n",
       " 'evng': 2729,\n",
       " 'gonna': 3235,\n",
       " 'burger': 1594,\n",
       " 'even': 2708,\n",
       " 'move': 4668,\n",
       " 'pain': 5112,\n",
       " 'killing': 3993,\n",
       " 'vikky': 7381,\n",
       " 'watching': 7498,\n",
       " 'olave': 4990,\n",
       " 'mandara': 4399,\n",
       " 'movie': 4671,\n",
       " 'kano': 3951,\n",
       " 'trishul': 7129,\n",
       " 'theatre': 6907,\n",
       " 'wit': 7640,\n",
       " 'frnds': 3061,\n",
       " 'haf': 3352,\n",
       " 'combine': 1939,\n",
       " 'boltblue': 1450,\n",
       " 'tones': 7044,\n",
       " '150p': 314,\n",
       " 'poly': 5361,\n",
       " 'mono': 4642,\n",
       " 'eg': 2589,\n",
       " 'poly3': 5362,\n",
       " 'cha': 1743,\n",
       " 'slide': 6312,\n",
       " 'slow': 6322,\n",
       " 'jamz': 3839,\n",
       " 'toxic': 7088,\n",
       " 'song': 6407,\n",
       " 'dedicated': 2255,\n",
       " 'dedicate': 2254,\n",
       " 'valuable': 7336,\n",
       " 'first': 2923,\n",
       " 'wish': 7635,\n",
       " 'many': 4406,\n",
       " 'returns': 5838,\n",
       " 'celebrate': 1731,\n",
       " 'anybody': 1017,\n",
       " 'number': 4923,\n",
       " 'haven': 3418,\n",
       " 'thought': 6954,\n",
       " 'tactful': 6770,\n",
       " 'alex': 926,\n",
       " 'leave': 4113,\n",
       " 'dismay': 2398,\n",
       " 'times': 6986,\n",
       " 'together': 7025,\n",
       " 'thinkin': 6937,\n",
       " 'had': 3350,\n",
       " '11': 281,\n",
       " 'entitled': 2659,\n",
       " 'update': 7276,\n",
       " 'colour': 1932,\n",
       " 'mobiles': 4611,\n",
       " '08002986030': 55,\n",
       " 'those': 6950,\n",
       " 'ducking': 2522,\n",
       " 'chinchillas': 1823,\n",
       " 'hows': 3584,\n",
       " 'champ': 1749,\n",
       " 'glasgow': 3200,\n",
       " 'feel': 2856,\n",
       " 'kadeem': 3938,\n",
       " 'again': 882,\n",
       " 'need': 4791,\n",
       " 'nitros': 4855,\n",
       " 'hurry': 3620,\n",
       " 'before': 1323,\n",
       " 'crash': 2093,\n",
       " 'guy': 3339,\n",
       " 'browsin': 1566,\n",
       " 'compulsory': 1974,\n",
       " 'bangbabes': 1246,\n",
       " 'order': 5045,\n",
       " 'msg': 4681,\n",
       " 'download': 2470,\n",
       " 'content': 2017,\n",
       " 'goto': 3260,\n",
       " 'wap': 7477,\n",
       " 'bangb': 1245,\n",
       " 'tv': 7171,\n",
       " 'internet': 3764,\n",
       " 'menu': 4510,\n",
       " 'gained': 3116,\n",
       " 'kg': 3980,\n",
       " 'since': 6254,\n",
       " 'took': 7056,\n",
       " 'second': 6051,\n",
       " 'done': 2451,\n",
       " 'blood': 1429,\n",
       " 'sugar': 6676,\n",
       " 'tests': 6873,\n",
       " 'pressure': 5465,\n",
       " 'within': 7644,\n",
       " 'normal': 4887,\n",
       " 'limits': 4174,\n",
       " 'worries': 7694,\n",
       " 'reminder': 5765,\n",
       " 'wonderful': 7672,\n",
       " 'weekend': 7534,\n",
       " 'keep': 3963,\n",
       " 'bruce': 1567,\n",
       " 'downs': 2473,\n",
       " 'fletcher': 2940,\n",
       " 'kallis': 3945,\n",
       " 'wont': 7675,\n",
       " 'bat': 1270,\n",
       " 'innings': 3739,\n",
       " 'chikku': 1812,\n",
       " 'nt': 4915,\n",
       " 'ya': 7756,\n",
       " 'shall': 6142,\n",
       " 'nobody': 4863,\n",
       " 'names': 4750,\n",
       " 'their': 6909,\n",
       " 'penis': 5201,\n",
       " 'girls': 3192,\n",
       " 'name': 4746,\n",
       " 'story': 6599,\n",
       " 'doesn': 2427,\n",
       " 'add': 831,\n",
       " 'maybe': 4459,\n",
       " 'fat': 2835,\n",
       " 'fingers': 2909,\n",
       " 'press': 5463,\n",
       " 'buttons': 1610,\n",
       " 'update_now': 7277,\n",
       " '12mths': 299,\n",
       " 'price': 5476,\n",
       " 'line': 4177,\n",
       " 'rental': 5774,\n",
       " '400mins': 483,\n",
       " 'call2optout': 1637,\n",
       " 'j5q': 3826,\n",
       " 'better': 1359,\n",
       " 'bb': 1281,\n",
       " 'his': 3500,\n",
       " 'wife': 7605,\n",
       " 'doctor': 2422,\n",
       " 'cmon': 1899,\n",
       " 'horny': 3557,\n",
       " 'turn': 7166,\n",
       " 'fantasy': 2828,\n",
       " 'hot': 3567,\n",
       " 'sticky': 6572,\n",
       " 'replies': 5787,\n",
       " '50': 545,\n",
       " 'cancel': 1664,\n",
       " 'dunno': 2532,\n",
       " 'show': 6210,\n",
       " '850': 689,\n",
       " 'toa': 7016,\n",
       " 'payoh': 5186,\n",
       " '650': 593,\n",
       " 'aah': 760,\n",
       " 'bless': 1415,\n",
       " 'arm': 1085,\n",
       " 'local': 4224,\n",
       " 'virgins': 7394,\n",
       " 'ready': 5671,\n",
       " '4fil': 525,\n",
       " 'sexual': 6125,\n",
       " 'theirs': 6910,\n",
       " 'text': 6877,\n",
       " 'cute': 2172,\n",
       " '69911': 605,\n",
       " '50p': 551,\n",
       " 'wait': 7448,\n",
       " 'photos': 5257,\n",
       " 'useful': 7309,\n",
       " 'late': 4078,\n",
       " 'tomorrow': 7041,\n",
       " 'morning': 4653,\n",
       " 'sweet': 6742,\n",
       " 'ummifying': 7215,\n",
       " 'bye': 1621,\n",
       " 'ffffffffff': 2874,\n",
       " 'alright': 947,\n",
       " 'sooner': 6413,\n",
       " 'textin': 6884,\n",
       " 'bout': 1482,\n",
       " 'rebooting': 5690,\n",
       " 'seems': 6068,\n",
       " 'unnecessarily': 7260,\n",
       " 'affectionate': 868,\n",
       " 'sure': 6718,\n",
       " 'spend': 6465,\n",
       " 'evening': 2709,\n",
       " 'would': 7704,\n",
       " 'vewy': 7366,\n",
       " 'lubly': 4308,\n",
       " 'xxx': 7746,\n",
       " '07732584351': 26,\n",
       " 'rodger': 5883,\n",
       " 'burns': 1597,\n",
       " 'nokia': 4868,\n",
       " 'camcorder': 1654,\n",
       " '08000930705': 51,\n",
       " 'delivery': 2283,\n",
       " 'logo': 4234,\n",
       " 'joined': 3890,\n",
       " 'heart': 3441,\n",
       " 'name1': 4747,\n",
       " 'name2': 4748,\n",
       " 'mobno': 4615,\n",
       " 'adam': 830,\n",
       " 'eve': 2706,\n",
       " '07123456789': 24,\n",
       " '87077': 704,\n",
       " 'yahoo': 7758,\n",
       " 'pobox36504w45wq': 5341,\n",
       " 'txtno': 7188,\n",
       " 'ads': 851,\n",
       " 'looks': 4253,\n",
       " 'scrumptious': 6041,\n",
       " 'daddy': 2188,\n",
       " 'wants': 7476,\n",
       " 'long': 4244,\n",
       " 'mad': 4357,\n",
       " 'woke': 7665,\n",
       " 'gave': 3141,\n",
       " 'ceri': 1741,\n",
       " 'rebel': 5688,\n",
       " 'dreamz': 2488,\n",
       " 'little': 4204,\n",
       " 'buddy': 1580,\n",
       " '2moro': 404,\n",
       " 'needs': 4795,\n",
       " 'blokes': 1426,\n",
       " '09066350750': 231,\n",
       " 'complimentary': 1971,\n",
       " 'ibiza': 3637,\n",
       " '10': 266,\n",
       " '000': 1,\n",
       " 'await': 1191,\n",
       " 'collection': 1928,\n",
       " 'sae': 5950,\n",
       " 'po': 5332,\n",
       " '434': 497,\n",
       " 'sk3': 6283,\n",
       " '8wp': 735,\n",
       " '150': 312,\n",
       " 'ppm': 5416,\n",
       " '18': 329,\n",
       " 'exam': 2740,\n",
       " 'makes': 4383,\n",
       " 'most': 4657,\n",
       " 'wow': 7707,\n",
       " 'didn': 2345,\n",
       " 'mean': 4469,\n",
       " 'once': 5003,\n",
       " 'boston': 1474,\n",
       " 'men': 4504,\n",
       " 'changed': 1755,\n",
       " 'location': 4225,\n",
       " 'nyc': 4936,\n",
       " 'cuz': 2178,\n",
       " 'signin': 6240,\n",
       " 'page': 5108,\n",
       " 'says': 6011,\n",
       " 'goodmorning': 3242,\n",
       " 'voucher': 7420,\n",
       " 'holder': 3525,\n",
       " 'us': 7304,\n",
       " 'following': 2971,\n",
       " 'link': 4184,\n",
       " 'pc': 5187,\n",
       " 'enjoy': 2645,\n",
       " 'dining': 2371,\n",
       " 'experiencehttp': 2768,\n",
       " 'vouch4me': 7419,\n",
       " 'com': 1934,\n",
       " 'etlp': 2698,\n",
       " 'asp': 1123,\n",
       " 'sis': 6268,\n",
       " 'juz': 3933,\n",
       " 'watched': 7495,\n",
       " 'italian': 3809,\n",
       " 'job': 3881,\n",
       " 'mail': 4375,\n",
       " 'dileep': 2363,\n",
       " 'thank': 6893,\n",
       " 'muchand': 4700,\n",
       " 'lots': 4269,\n",
       " 'less': 4133,\n",
       " 'contacts': 2015,\n",
       " 'remember': 5758,\n",
       " 'one': 5005,\n",
       " 'venugopal': 7358,\n",
       " 'mentioned': 4507,\n",
       " 'till': 6983,\n",
       " 'goodnight': 3243,\n",
       " 'aight': 903,\n",
       " 'open': 5021,\n",
       " 'exact': 2738,\n",
       " 'intentions': 3758,\n",
       " 'wondarfull': 7670,\n",
       " 'checked': 1783,\n",
       " 'blame': 1409,\n",
       " 'days': 2224,\n",
       " 'happiness': 3391,\n",
       " 'bad': 1225,\n",
       " 'experience': 2767,\n",
       " 'both': 1475,\n",
       " 'essential': 2693,\n",
       " 'gods': 3218,\n",
       " 'blessings': 1418,\n",
       " 'nite': 4854,\n",
       " 'fault': 2840,\n",
       " 'spouse': 6498,\n",
       " 'pmt': 5331,\n",
       " 'sumthin': 6691,\n",
       " '4give': 527,\n",
       " 'shldxxxx': 6184,\n",
       " 'jus': 3926,\n",
       " 'ans': 1004,\n",
       " 'lar': 4069,\n",
       " 'noe': 4864,\n",
       " 'thnx': 6948,\n",
       " 'dude': 2523,\n",
       " 'guys': 3340,\n",
       " '2nite': 414,\n",
       " 'unbelievable': 7220,\n",
       " 'faglord': 2801,\n",
       " 'reboot': 5689,\n",
       " 'ym': 7790,\n",
       " 'buzz': 1617,\n",
       " 'conference': 1989,\n",
       " 'ta': 6765,\n",
       " 'jobs': 3882,\n",
       " 'available': 1178,\n",
       " 'start': 6535,\n",
       " 'gets': 3172,\n",
       " 'used': 7308,\n",
       " 'dumb': 2528,\n",
       " 'realize': 5677,\n",
       " '3g': 468,\n",
       " 'videophones': 7375,\n",
       " '09063458130': 212,\n",
       " 'videochat': 7374,\n",
       " 'wid': 7602,\n",
       " 'mates': 4439,\n",
       " 'play': 5307,\n",
       " 'java': 3849,\n",
       " 'games': 3122,\n",
       " 'dload': 2412,\n",
       " 'polyph': 5364,\n",
       " 'music': 4718,\n",
       " 'noline': 4872,\n",
       " 'rentl': 5776,\n",
       " 'bx420': 1619,\n",
       " 'ip4': 3783,\n",
       " '5we': 576,\n",
       " 'thing': 6933,\n",
       " 'thanx': 6898,\n",
       " 'exams': 2741,\n",
       " 'march': 4412,\n",
       " 'ive': 3821,\n",
       " 'revision': 5844,\n",
       " 'fran': 3021,\n",
       " 'boyf': 1503,\n",
       " 'gotta': 3261,\n",
       " 'interviw': 3767,\n",
       " 'exeter': 2753,\n",
       " 'worried': 7693,\n",
       " 'fuck': 3079,\n",
       " 'family': 2819,\n",
       " 'going': 3224,\n",
       " 'rhode': 5850,\n",
       " 'island': 3802,\n",
       " 'wherever': 7581,\n",
       " 'alone': 943,\n",
       " 'bong': 1453,\n",
       " 'reached': 5664,\n",
       " 'railway': 5621,\n",
       " 'happen': 3382,\n",
       " 'alle': 938,\n",
       " 'mone': 4636,\n",
       " 'eppolum': 2669,\n",
       " 'oru': 5059,\n",
       " 'pole': 5357,\n",
       " 'allalo': 936,\n",
       " 'believe': 1335,\n",
       " 'taunton': 6811,\n",
       " 'isn': 3804,\n",
       " 'decision': 2248,\n",
       " 'feeling': 2858,\n",
       " 'decide': 2244,\n",
       " 'simpler': 6250,\n",
       " 'magical': 4369,\n",
       " 'packing': 5105,\n",
       " 'car': 1677,\n",
       " 'room': 5892,\n",
       " 'smaller': 6330,\n",
       " 'capacity': 1673,\n",
       " 'quite': 5603,\n",
       " 'ex': 2737,\n",
       " 'eldest': 2606,\n",
       " 'sunshine': 6700,\n",
       " 'quiz': 5606,\n",
       " 'wkly': 7654,\n",
       " 'win': 7617,\n",
       " 'sony': 6409,\n",
       " 'dvd': 2539,\n",
       " 'player': 5309,\n",
       " 'country': 2069,\n",
       " 'liverpool': 4208,\n",
       " 'played': 5308,\n",
       " 'mid': 4530,\n",
       " 'ansr': 1005,\n",
       " '82277': 668,\n",
       " 'sp': 6439,\n",
       " 'tyrone': 7196,\n",
       " 'cool': 2039,\n",
       " 'parked': 5147,\n",
       " 'down': 2469,\n",
       " 'reg': 5733,\n",
       " 'pract': 5421,\n",
       " 'lessons': 4136,\n",
       " 'flung': 2958,\n",
       " 'advance': 855,\n",
       " 'haha': 3353,\n",
       " 'display': 2399,\n",
       " 'internal': 3763,\n",
       " 'subs': 6650,\n",
       " 'extract': 2784,\n",
       " 'petey': 5235,\n",
       " 'boy': 1501,\n",
       " 'whereare': 7580,\n",
       " 'friendsare': 3054,\n",
       " 'thekingshead': 6911,\n",
       " 'canlove': 1668,\n",
       " 'nic': 4834,\n",
       " 'video': 7373,\n",
       " ...}"
      ]
     },
     "execution_count": 25,
     "metadata": {},
     "output_type": "execute_result"
    }
   ],
   "source": [
    "v.vocabulary_"
   ]
  },
  {
   "cell_type": "code",
   "execution_count": 66,
   "id": "7e55feed",
   "metadata": {},
   "outputs": [
    {
     "data": {
      "text/plain": [
       "'can'"
      ]
     },
     "execution_count": 66,
     "metadata": {},
     "output_type": "execute_result"
    }
   ],
   "source": [
    "v.get_feature_names_out()[1660]"
   ]
  },
  {
   "cell_type": "code",
   "execution_count": 27,
   "id": "ca0ec49f",
   "metadata": {},
   "outputs": [
    {
     "data": {
      "text/plain": [
       "array([0, 0, 0, ..., 0, 0, 0], dtype=int64)"
      ]
     },
     "execution_count": 27,
     "metadata": {},
     "output_type": "execute_result"
    }
   ],
   "source": [
    "X_train_np=X_train_cv.toarray()\n",
    "X_train_np[0]"
   ]
  },
  {
   "cell_type": "code",
   "execution_count": 28,
   "id": "789083b2",
   "metadata": {},
   "outputs": [
    {
     "data": {
      "text/plain": [
       "(array([1660, 2986, 4074, 4382, 7410, 7796], dtype=int64),)"
      ]
     },
     "execution_count": 28,
     "metadata": {},
     "output_type": "execute_result"
    }
   ],
   "source": [
    "np.where(X_train_np[0]!=0)"
   ]
  },
  {
   "cell_type": "code",
   "execution_count": 30,
   "id": "ff57a82a",
   "metadata": {},
   "outputs": [
    {
     "data": {
      "text/plain": [
       "'I can make lasagna for you... vodka...'"
      ]
     },
     "execution_count": 30,
     "metadata": {},
     "output_type": "execute_result"
    }
   ],
   "source": [
    "X_train[:1][3255]"
   ]
  },
  {
   "cell_type": "code",
   "execution_count": 33,
   "id": "bc369d98",
   "metadata": {},
   "outputs": [
    {
     "data": {
      "text/plain": [
       "1"
      ]
     },
     "execution_count": 33,
     "metadata": {},
     "output_type": "execute_result"
    }
   ],
   "source": [
    "X_train_np[0][4074]"
   ]
  },
  {
   "cell_type": "code",
   "execution_count": 34,
   "id": "e90599ef",
   "metadata": {},
   "outputs": [
    {
     "data": {
      "text/html": [
       "<style>#sk-container-id-1 {color: black;background-color: white;}#sk-container-id-1 pre{padding: 0;}#sk-container-id-1 div.sk-toggleable {background-color: white;}#sk-container-id-1 label.sk-toggleable__label {cursor: pointer;display: block;width: 100%;margin-bottom: 0;padding: 0.3em;box-sizing: border-box;text-align: center;}#sk-container-id-1 label.sk-toggleable__label-arrow:before {content: \"▸\";float: left;margin-right: 0.25em;color: #696969;}#sk-container-id-1 label.sk-toggleable__label-arrow:hover:before {color: black;}#sk-container-id-1 div.sk-estimator:hover label.sk-toggleable__label-arrow:before {color: black;}#sk-container-id-1 div.sk-toggleable__content {max-height: 0;max-width: 0;overflow: hidden;text-align: left;background-color: #f0f8ff;}#sk-container-id-1 div.sk-toggleable__content pre {margin: 0.2em;color: black;border-radius: 0.25em;background-color: #f0f8ff;}#sk-container-id-1 input.sk-toggleable__control:checked~div.sk-toggleable__content {max-height: 200px;max-width: 100%;overflow: auto;}#sk-container-id-1 input.sk-toggleable__control:checked~label.sk-toggleable__label-arrow:before {content: \"▾\";}#sk-container-id-1 div.sk-estimator input.sk-toggleable__control:checked~label.sk-toggleable__label {background-color: #d4ebff;}#sk-container-id-1 div.sk-label input.sk-toggleable__control:checked~label.sk-toggleable__label {background-color: #d4ebff;}#sk-container-id-1 input.sk-hidden--visually {border: 0;clip: rect(1px 1px 1px 1px);clip: rect(1px, 1px, 1px, 1px);height: 1px;margin: -1px;overflow: hidden;padding: 0;position: absolute;width: 1px;}#sk-container-id-1 div.sk-estimator {font-family: monospace;background-color: #f0f8ff;border: 1px dotted black;border-radius: 0.25em;box-sizing: border-box;margin-bottom: 0.5em;}#sk-container-id-1 div.sk-estimator:hover {background-color: #d4ebff;}#sk-container-id-1 div.sk-parallel-item::after {content: \"\";width: 100%;border-bottom: 1px solid gray;flex-grow: 1;}#sk-container-id-1 div.sk-label:hover label.sk-toggleable__label {background-color: #d4ebff;}#sk-container-id-1 div.sk-serial::before {content: \"\";position: absolute;border-left: 1px solid gray;box-sizing: border-box;top: 0;bottom: 0;left: 50%;z-index: 0;}#sk-container-id-1 div.sk-serial {display: flex;flex-direction: column;align-items: center;background-color: white;padding-right: 0.2em;padding-left: 0.2em;position: relative;}#sk-container-id-1 div.sk-item {position: relative;z-index: 1;}#sk-container-id-1 div.sk-parallel {display: flex;align-items: stretch;justify-content: center;background-color: white;position: relative;}#sk-container-id-1 div.sk-item::before, #sk-container-id-1 div.sk-parallel-item::before {content: \"\";position: absolute;border-left: 1px solid gray;box-sizing: border-box;top: 0;bottom: 0;left: 50%;z-index: -1;}#sk-container-id-1 div.sk-parallel-item {display: flex;flex-direction: column;z-index: 1;position: relative;background-color: white;}#sk-container-id-1 div.sk-parallel-item:first-child::after {align-self: flex-end;width: 50%;}#sk-container-id-1 div.sk-parallel-item:last-child::after {align-self: flex-start;width: 50%;}#sk-container-id-1 div.sk-parallel-item:only-child::after {width: 0;}#sk-container-id-1 div.sk-dashed-wrapped {border: 1px dashed gray;margin: 0 0.4em 0.5em 0.4em;box-sizing: border-box;padding-bottom: 0.4em;background-color: white;}#sk-container-id-1 div.sk-label label {font-family: monospace;font-weight: bold;display: inline-block;line-height: 1.2em;}#sk-container-id-1 div.sk-label-container {text-align: center;}#sk-container-id-1 div.sk-container {/* jupyter's `normalize.less` sets `[hidden] { display: none; }` but bootstrap.min.css set `[hidden] { display: none !important; }` so we also need the `!important` here to be able to override the default hidden behavior on the sphinx rendered scikit-learn.org. See: https://github.com/scikit-learn/scikit-learn/issues/21755 */display: inline-block !important;position: relative;}#sk-container-id-1 div.sk-text-repr-fallback {display: none;}</style><div id=\"sk-container-id-1\" class=\"sk-top-container\"><div class=\"sk-text-repr-fallback\"><pre>MultinomialNB()</pre><b>In a Jupyter environment, please rerun this cell to show the HTML representation or trust the notebook. <br />On GitHub, the HTML representation is unable to render, please try loading this page with nbviewer.org.</b></div><div class=\"sk-container\" hidden><div class=\"sk-item\"><div class=\"sk-estimator sk-toggleable\"><input class=\"sk-toggleable__control sk-hidden--visually\" id=\"sk-estimator-id-1\" type=\"checkbox\" checked><label for=\"sk-estimator-id-1\" class=\"sk-toggleable__label sk-toggleable__label-arrow\">MultinomialNB</label><div class=\"sk-toggleable__content\"><pre>MultinomialNB()</pre></div></div></div></div></div>"
      ],
      "text/plain": [
       "MultinomialNB()"
      ]
     },
     "execution_count": 34,
     "metadata": {},
     "output_type": "execute_result"
    }
   ],
   "source": [
    "from sklearn.naive_bayes import MultinomialNB\n",
    "\n",
    "model=MultinomialNB()\n",
    "model.fit(X_train_cv,y_train)"
   ]
  },
  {
   "cell_type": "code",
   "execution_count": 35,
   "id": "aa5c486c",
   "metadata": {},
   "outputs": [],
   "source": [
    "X_test_cv=v.transform(X_test)"
   ]
  },
  {
   "cell_type": "code",
   "execution_count": 36,
   "id": "e19c369b",
   "metadata": {},
   "outputs": [
    {
     "name": "stdout",
     "output_type": "stream",
     "text": [
      "              precision    recall  f1-score   support\n",
      "\n",
      "           0       0.99      0.99      0.99       982\n",
      "           1       0.94      0.89      0.92       133\n",
      "\n",
      "    accuracy                           0.98      1115\n",
      "   macro avg       0.97      0.94      0.95      1115\n",
      "weighted avg       0.98      0.98      0.98      1115\n",
      "\n"
     ]
    }
   ],
   "source": [
    "from sklearn.metrics import classification_report\n",
    "\n",
    "y_pred=model.predict(X_test_cv)\n",
    "\n",
    "print(classification_report(y_test,y_pred))"
   ]
  },
  {
   "cell_type": "code",
   "execution_count": 37,
   "id": "3833856c",
   "metadata": {},
   "outputs": [
    {
     "data": {
      "text/plain": [
       "array([0, 1], dtype=int64)"
      ]
     },
     "execution_count": 37,
     "metadata": {},
     "output_type": "execute_result"
    }
   ],
   "source": [
    "emails = [\n",
    "    'Hey mohan, can we get together to watch footbal game tomorrow?',\n",
    "    'Upto 20% discount on parking, exclusive offer just for you. Dont miss this reward!'\n",
    "]\n",
    "\n",
    "emails_count = v.transform(emails)\n",
    "model.predict(emails_count)"
   ]
  },
  {
   "cell_type": "code",
   "execution_count": 38,
   "id": "adb5e25c",
   "metadata": {},
   "outputs": [],
   "source": [
    "from sklearn.pipeline import Pipeline\n",
    "\n",
    "clf=Pipeline([\n",
    "    ('vectorizer',CountVectorizer()),\n",
    "    ('nb',MultinomialNB())\n",
    "])"
   ]
  },
  {
   "cell_type": "code",
   "execution_count": 39,
   "id": "047455c4",
   "metadata": {},
   "outputs": [
    {
     "data": {
      "text/html": [
       "<style>#sk-container-id-2 {color: black;background-color: white;}#sk-container-id-2 pre{padding: 0;}#sk-container-id-2 div.sk-toggleable {background-color: white;}#sk-container-id-2 label.sk-toggleable__label {cursor: pointer;display: block;width: 100%;margin-bottom: 0;padding: 0.3em;box-sizing: border-box;text-align: center;}#sk-container-id-2 label.sk-toggleable__label-arrow:before {content: \"▸\";float: left;margin-right: 0.25em;color: #696969;}#sk-container-id-2 label.sk-toggleable__label-arrow:hover:before {color: black;}#sk-container-id-2 div.sk-estimator:hover label.sk-toggleable__label-arrow:before {color: black;}#sk-container-id-2 div.sk-toggleable__content {max-height: 0;max-width: 0;overflow: hidden;text-align: left;background-color: #f0f8ff;}#sk-container-id-2 div.sk-toggleable__content pre {margin: 0.2em;color: black;border-radius: 0.25em;background-color: #f0f8ff;}#sk-container-id-2 input.sk-toggleable__control:checked~div.sk-toggleable__content {max-height: 200px;max-width: 100%;overflow: auto;}#sk-container-id-2 input.sk-toggleable__control:checked~label.sk-toggleable__label-arrow:before {content: \"▾\";}#sk-container-id-2 div.sk-estimator input.sk-toggleable__control:checked~label.sk-toggleable__label {background-color: #d4ebff;}#sk-container-id-2 div.sk-label input.sk-toggleable__control:checked~label.sk-toggleable__label {background-color: #d4ebff;}#sk-container-id-2 input.sk-hidden--visually {border: 0;clip: rect(1px 1px 1px 1px);clip: rect(1px, 1px, 1px, 1px);height: 1px;margin: -1px;overflow: hidden;padding: 0;position: absolute;width: 1px;}#sk-container-id-2 div.sk-estimator {font-family: monospace;background-color: #f0f8ff;border: 1px dotted black;border-radius: 0.25em;box-sizing: border-box;margin-bottom: 0.5em;}#sk-container-id-2 div.sk-estimator:hover {background-color: #d4ebff;}#sk-container-id-2 div.sk-parallel-item::after {content: \"\";width: 100%;border-bottom: 1px solid gray;flex-grow: 1;}#sk-container-id-2 div.sk-label:hover label.sk-toggleable__label {background-color: #d4ebff;}#sk-container-id-2 div.sk-serial::before {content: \"\";position: absolute;border-left: 1px solid gray;box-sizing: border-box;top: 0;bottom: 0;left: 50%;z-index: 0;}#sk-container-id-2 div.sk-serial {display: flex;flex-direction: column;align-items: center;background-color: white;padding-right: 0.2em;padding-left: 0.2em;position: relative;}#sk-container-id-2 div.sk-item {position: relative;z-index: 1;}#sk-container-id-2 div.sk-parallel {display: flex;align-items: stretch;justify-content: center;background-color: white;position: relative;}#sk-container-id-2 div.sk-item::before, #sk-container-id-2 div.sk-parallel-item::before {content: \"\";position: absolute;border-left: 1px solid gray;box-sizing: border-box;top: 0;bottom: 0;left: 50%;z-index: -1;}#sk-container-id-2 div.sk-parallel-item {display: flex;flex-direction: column;z-index: 1;position: relative;background-color: white;}#sk-container-id-2 div.sk-parallel-item:first-child::after {align-self: flex-end;width: 50%;}#sk-container-id-2 div.sk-parallel-item:last-child::after {align-self: flex-start;width: 50%;}#sk-container-id-2 div.sk-parallel-item:only-child::after {width: 0;}#sk-container-id-2 div.sk-dashed-wrapped {border: 1px dashed gray;margin: 0 0.4em 0.5em 0.4em;box-sizing: border-box;padding-bottom: 0.4em;background-color: white;}#sk-container-id-2 div.sk-label label {font-family: monospace;font-weight: bold;display: inline-block;line-height: 1.2em;}#sk-container-id-2 div.sk-label-container {text-align: center;}#sk-container-id-2 div.sk-container {/* jupyter's `normalize.less` sets `[hidden] { display: none; }` but bootstrap.min.css set `[hidden] { display: none !important; }` so we also need the `!important` here to be able to override the default hidden behavior on the sphinx rendered scikit-learn.org. See: https://github.com/scikit-learn/scikit-learn/issues/21755 */display: inline-block !important;position: relative;}#sk-container-id-2 div.sk-text-repr-fallback {display: none;}</style><div id=\"sk-container-id-2\" class=\"sk-top-container\"><div class=\"sk-text-repr-fallback\"><pre>Pipeline(steps=[(&#x27;vectorizer&#x27;, CountVectorizer()), (&#x27;nb&#x27;, MultinomialNB())])</pre><b>In a Jupyter environment, please rerun this cell to show the HTML representation or trust the notebook. <br />On GitHub, the HTML representation is unable to render, please try loading this page with nbviewer.org.</b></div><div class=\"sk-container\" hidden><div class=\"sk-item sk-dashed-wrapped\"><div class=\"sk-label-container\"><div class=\"sk-label sk-toggleable\"><input class=\"sk-toggleable__control sk-hidden--visually\" id=\"sk-estimator-id-2\" type=\"checkbox\" ><label for=\"sk-estimator-id-2\" class=\"sk-toggleable__label sk-toggleable__label-arrow\">Pipeline</label><div class=\"sk-toggleable__content\"><pre>Pipeline(steps=[(&#x27;vectorizer&#x27;, CountVectorizer()), (&#x27;nb&#x27;, MultinomialNB())])</pre></div></div></div><div class=\"sk-serial\"><div class=\"sk-item\"><div class=\"sk-estimator sk-toggleable\"><input class=\"sk-toggleable__control sk-hidden--visually\" id=\"sk-estimator-id-3\" type=\"checkbox\" ><label for=\"sk-estimator-id-3\" class=\"sk-toggleable__label sk-toggleable__label-arrow\">CountVectorizer</label><div class=\"sk-toggleable__content\"><pre>CountVectorizer()</pre></div></div></div><div class=\"sk-item\"><div class=\"sk-estimator sk-toggleable\"><input class=\"sk-toggleable__control sk-hidden--visually\" id=\"sk-estimator-id-4\" type=\"checkbox\" ><label for=\"sk-estimator-id-4\" class=\"sk-toggleable__label sk-toggleable__label-arrow\">MultinomialNB</label><div class=\"sk-toggleable__content\"><pre>MultinomialNB()</pre></div></div></div></div></div></div></div>"
      ],
      "text/plain": [
       "Pipeline(steps=[('vectorizer', CountVectorizer()), ('nb', MultinomialNB())])"
      ]
     },
     "execution_count": 39,
     "metadata": {},
     "output_type": "execute_result"
    }
   ],
   "source": [
    "clf.fit(X_train,y_train)"
   ]
  },
  {
   "cell_type": "code",
   "execution_count": 41,
   "id": "ec4b3925",
   "metadata": {},
   "outputs": [
    {
     "name": "stdout",
     "output_type": "stream",
     "text": [
      "              precision    recall  f1-score   support\n",
      "\n",
      "           0       0.99      0.99      0.99       982\n",
      "           1       0.94      0.89      0.92       133\n",
      "\n",
      "    accuracy                           0.98      1115\n",
      "   macro avg       0.97      0.94      0.95      1115\n",
      "weighted avg       0.98      0.98      0.98      1115\n",
      "\n"
     ]
    }
   ],
   "source": [
    "y_pred=clf.predict(X_test)\n",
    "\n",
    "print(classification_report(y_test,y_pred))"
   ]
  },
  {
   "cell_type": "markdown",
   "id": "3f1cdb00",
   "metadata": {},
   "source": [
    "### By The help of GaussianNB"
   ]
  },
  {
   "cell_type": "code",
   "execution_count": 44,
   "id": "4bf420e3",
   "metadata": {},
   "outputs": [
    {
     "data": {
      "text/html": [
       "<style>#sk-container-id-3 {color: black;background-color: white;}#sk-container-id-3 pre{padding: 0;}#sk-container-id-3 div.sk-toggleable {background-color: white;}#sk-container-id-3 label.sk-toggleable__label {cursor: pointer;display: block;width: 100%;margin-bottom: 0;padding: 0.3em;box-sizing: border-box;text-align: center;}#sk-container-id-3 label.sk-toggleable__label-arrow:before {content: \"▸\";float: left;margin-right: 0.25em;color: #696969;}#sk-container-id-3 label.sk-toggleable__label-arrow:hover:before {color: black;}#sk-container-id-3 div.sk-estimator:hover label.sk-toggleable__label-arrow:before {color: black;}#sk-container-id-3 div.sk-toggleable__content {max-height: 0;max-width: 0;overflow: hidden;text-align: left;background-color: #f0f8ff;}#sk-container-id-3 div.sk-toggleable__content pre {margin: 0.2em;color: black;border-radius: 0.25em;background-color: #f0f8ff;}#sk-container-id-3 input.sk-toggleable__control:checked~div.sk-toggleable__content {max-height: 200px;max-width: 100%;overflow: auto;}#sk-container-id-3 input.sk-toggleable__control:checked~label.sk-toggleable__label-arrow:before {content: \"▾\";}#sk-container-id-3 div.sk-estimator input.sk-toggleable__control:checked~label.sk-toggleable__label {background-color: #d4ebff;}#sk-container-id-3 div.sk-label input.sk-toggleable__control:checked~label.sk-toggleable__label {background-color: #d4ebff;}#sk-container-id-3 input.sk-hidden--visually {border: 0;clip: rect(1px 1px 1px 1px);clip: rect(1px, 1px, 1px, 1px);height: 1px;margin: -1px;overflow: hidden;padding: 0;position: absolute;width: 1px;}#sk-container-id-3 div.sk-estimator {font-family: monospace;background-color: #f0f8ff;border: 1px dotted black;border-radius: 0.25em;box-sizing: border-box;margin-bottom: 0.5em;}#sk-container-id-3 div.sk-estimator:hover {background-color: #d4ebff;}#sk-container-id-3 div.sk-parallel-item::after {content: \"\";width: 100%;border-bottom: 1px solid gray;flex-grow: 1;}#sk-container-id-3 div.sk-label:hover label.sk-toggleable__label {background-color: #d4ebff;}#sk-container-id-3 div.sk-serial::before {content: \"\";position: absolute;border-left: 1px solid gray;box-sizing: border-box;top: 0;bottom: 0;left: 50%;z-index: 0;}#sk-container-id-3 div.sk-serial {display: flex;flex-direction: column;align-items: center;background-color: white;padding-right: 0.2em;padding-left: 0.2em;position: relative;}#sk-container-id-3 div.sk-item {position: relative;z-index: 1;}#sk-container-id-3 div.sk-parallel {display: flex;align-items: stretch;justify-content: center;background-color: white;position: relative;}#sk-container-id-3 div.sk-item::before, #sk-container-id-3 div.sk-parallel-item::before {content: \"\";position: absolute;border-left: 1px solid gray;box-sizing: border-box;top: 0;bottom: 0;left: 50%;z-index: -1;}#sk-container-id-3 div.sk-parallel-item {display: flex;flex-direction: column;z-index: 1;position: relative;background-color: white;}#sk-container-id-3 div.sk-parallel-item:first-child::after {align-self: flex-end;width: 50%;}#sk-container-id-3 div.sk-parallel-item:last-child::after {align-self: flex-start;width: 50%;}#sk-container-id-3 div.sk-parallel-item:only-child::after {width: 0;}#sk-container-id-3 div.sk-dashed-wrapped {border: 1px dashed gray;margin: 0 0.4em 0.5em 0.4em;box-sizing: border-box;padding-bottom: 0.4em;background-color: white;}#sk-container-id-3 div.sk-label label {font-family: monospace;font-weight: bold;display: inline-block;line-height: 1.2em;}#sk-container-id-3 div.sk-label-container {text-align: center;}#sk-container-id-3 div.sk-container {/* jupyter's `normalize.less` sets `[hidden] { display: none; }` but bootstrap.min.css set `[hidden] { display: none !important; }` so we also need the `!important` here to be able to override the default hidden behavior on the sphinx rendered scikit-learn.org. See: https://github.com/scikit-learn/scikit-learn/issues/21755 */display: inline-block !important;position: relative;}#sk-container-id-3 div.sk-text-repr-fallback {display: none;}</style><div id=\"sk-container-id-3\" class=\"sk-top-container\"><div class=\"sk-text-repr-fallback\"><pre>GaussianNB()</pre><b>In a Jupyter environment, please rerun this cell to show the HTML representation or trust the notebook. <br />On GitHub, the HTML representation is unable to render, please try loading this page with nbviewer.org.</b></div><div class=\"sk-container\" hidden><div class=\"sk-item\"><div class=\"sk-estimator sk-toggleable\"><input class=\"sk-toggleable__control sk-hidden--visually\" id=\"sk-estimator-id-5\" type=\"checkbox\" checked><label for=\"sk-estimator-id-5\" class=\"sk-toggleable__label sk-toggleable__label-arrow\">GaussianNB</label><div class=\"sk-toggleable__content\"><pre>GaussianNB()</pre></div></div></div></div></div>"
      ],
      "text/plain": [
       "GaussianNB()"
      ]
     },
     "execution_count": 44,
     "metadata": {},
     "output_type": "execute_result"
    }
   ],
   "source": [
    "from sklearn.naive_bayes import GaussianNB\n",
    "\n",
    "model=GaussianNB()\n",
    "model.fit(X_train_np,y_train)"
   ]
  },
  {
   "cell_type": "code",
   "execution_count": 47,
   "id": "1e8b3196",
   "metadata": {},
   "outputs": [
    {
     "name": "stdout",
     "output_type": "stream",
     "text": [
      "              precision    recall  f1-score   support\n",
      "\n",
      "           0       0.99      0.90      0.94       982\n",
      "           1       0.55      0.93      0.69       133\n",
      "\n",
      "    accuracy                           0.90      1115\n",
      "   macro avg       0.77      0.91      0.81      1115\n",
      "weighted avg       0.94      0.90      0.91      1115\n",
      "\n"
     ]
    }
   ],
   "source": [
    "X_test_np=X_test_cv.toarray()\n",
    "y_pred=model.predict(X_test_np)\n",
    "\n",
    "print(classification_report(y_test,y_pred))"
   ]
  },
  {
   "cell_type": "code",
   "execution_count": null,
   "id": "87f39597",
   "metadata": {},
   "outputs": [],
   "source": []
  },
  {
   "cell_type": "markdown",
   "id": "808218ac",
   "metadata": {},
   "source": [
    "## Bag of words: Exercises\n",
    "1. In this Exercise, you are going to classify whether a given movie review is positive or negative.\n",
    "2. you are going to use Bag of words for pre-processing the text and apply different classification algorithms.\n",
    "3. Sklearn CountVectorizer has the inbuilt implementations for Bag of Words."
   ]
  },
  {
   "cell_type": "code",
   "execution_count": 48,
   "id": "746be06c",
   "metadata": {},
   "outputs": [],
   "source": [
    "#Import necessary libraries\n",
    "\n",
    "import pandas as pd\n",
    "import numpy as np\n",
    "from sklearn.model_selection import train_test_split\n",
    "from sklearn.feature_extraction.text import CountVectorizer\n",
    "from sklearn.ensemble import RandomForestClassifier\n",
    "from  sklearn.neighbors import KNeighborsClassifier\n",
    "from sklearn.naive_bayes import MultinomialNB\n",
    "from sklearn.pipeline import Pipeline\n",
    "from sklearn.metrics import classification_report"
   ]
  },
  {
   "cell_type": "markdown",
   "id": "faececda",
   "metadata": {},
   "source": [
    "#### About Data: IMDB Dataset\n",
    "Credits: https://www.kaggle.com/datasets/lakshmi25npathi/imdb-dataset-of-50k-movie-reviews?resource=download\n",
    "\n",
    "1. This data consists of two columns. - review - sentiment\n",
    "2. Reviews are the statements given by users after watching the movie.\n",
    "3. sentiment feature tells whether the given review is positive or negative."
   ]
  },
  {
   "cell_type": "code",
   "execution_count": 57,
   "id": "4c3a147b",
   "metadata": {},
   "outputs": [
    {
     "name": "stdout",
     "output_type": "stream",
     "text": [
      "(50000, 2)\n",
      "                                              review sentiment\n",
      "0  One of the other reviewers has mentioned that ...  positive\n",
      "1  A wonderful little production. <br /><br />The...  positive\n",
      "2  I thought this was a wonderful way to spend ti...  positive\n",
      "3  Basically there's a family where a little boy ...  negative\n",
      "4  Petter Mattei's \"Love in the Time of Money\" is...  positive\n"
     ]
    }
   ],
   "source": [
    "#1. read the data provided in the same directory with name 'movies_sentiment_data.csv' and store it in df variable\n",
    "df=pd.read_csv(\"IMDB Dataset.csv\")\n",
    "\n",
    "\n",
    "#2. print the shape of the data\n",
    "print(df.shape)\n",
    "\n",
    "#3. print top 5 datapoints\n",
    "print(df.head())"
   ]
  },
  {
   "cell_type": "code",
   "execution_count": 58,
   "id": "4095228e",
   "metadata": {},
   "outputs": [
    {
     "data": {
      "text/html": [
       "<div>\n",
       "<style scoped>\n",
       "    .dataframe tbody tr th:only-of-type {\n",
       "        vertical-align: middle;\n",
       "    }\n",
       "\n",
       "    .dataframe tbody tr th {\n",
       "        vertical-align: top;\n",
       "    }\n",
       "\n",
       "    .dataframe thead th {\n",
       "        text-align: right;\n",
       "    }\n",
       "</style>\n",
       "<table border=\"1\" class=\"dataframe\">\n",
       "  <thead>\n",
       "    <tr style=\"text-align: right;\">\n",
       "      <th></th>\n",
       "      <th>review</th>\n",
       "      <th>sentiment</th>\n",
       "      <th>Category</th>\n",
       "    </tr>\n",
       "  </thead>\n",
       "  <tbody>\n",
       "    <tr>\n",
       "      <th>0</th>\n",
       "      <td>One of the other reviewers has mentioned that ...</td>\n",
       "      <td>positive</td>\n",
       "      <td>1</td>\n",
       "    </tr>\n",
       "    <tr>\n",
       "      <th>1</th>\n",
       "      <td>A wonderful little production. &lt;br /&gt;&lt;br /&gt;The...</td>\n",
       "      <td>positive</td>\n",
       "      <td>1</td>\n",
       "    </tr>\n",
       "    <tr>\n",
       "      <th>2</th>\n",
       "      <td>I thought this was a wonderful way to spend ti...</td>\n",
       "      <td>positive</td>\n",
       "      <td>1</td>\n",
       "    </tr>\n",
       "    <tr>\n",
       "      <th>3</th>\n",
       "      <td>Basically there's a family where a little boy ...</td>\n",
       "      <td>negative</td>\n",
       "      <td>0</td>\n",
       "    </tr>\n",
       "    <tr>\n",
       "      <th>4</th>\n",
       "      <td>Petter Mattei's \"Love in the Time of Money\" is...</td>\n",
       "      <td>positive</td>\n",
       "      <td>1</td>\n",
       "    </tr>\n",
       "  </tbody>\n",
       "</table>\n",
       "</div>"
      ],
      "text/plain": [
       "                                              review sentiment  Category\n",
       "0  One of the other reviewers has mentioned that ...  positive         1\n",
       "1  A wonderful little production. <br /><br />The...  positive         1\n",
       "2  I thought this was a wonderful way to spend ti...  positive         1\n",
       "3  Basically there's a family where a little boy ...  negative         0\n",
       "4  Petter Mattei's \"Love in the Time of Money\" is...  positive         1"
      ]
     },
     "execution_count": 58,
     "metadata": {},
     "output_type": "execute_result"
    }
   ],
   "source": [
    "#creating a new column \"Category\" which represent 1 if the sentiment is positive or 0 if it is negative\n",
    "df['Category']=df['sentiment'].apply(lambda x:1 if x=='positive' else 0)\n",
    "df.head()"
   ]
  },
  {
   "cell_type": "code",
   "execution_count": 61,
   "id": "433f4dab",
   "metadata": {},
   "outputs": [
    {
     "data": {
      "text/plain": [
       "1    25000\n",
       "0    25000\n",
       "Name: Category, dtype: int64"
      ]
     },
     "execution_count": 61,
     "metadata": {},
     "output_type": "execute_result"
    }
   ],
   "source": [
    "#check the distribution of 'Category' and see whether the Target labels are balanced or not.\n",
    "df.Category.value_counts()"
   ]
  },
  {
   "cell_type": "markdown",
   "id": "b7b2f333",
   "metadata": {},
   "source": [
    "Yes,The Target labels are balanced"
   ]
  },
  {
   "cell_type": "code",
   "execution_count": 63,
   "id": "b437a206",
   "metadata": {},
   "outputs": [],
   "source": [
    "#Do the 'train-test' splitting with test size of 20%\n",
    "\n",
    "X_train,X_test,y_train,y_test=train_test_split(df.review,df.Category,test_size=0.2)"
   ]
  },
  {
   "cell_type": "markdown",
   "id": "7e0f0766",
   "metadata": {},
   "source": [
    "#### Exercise-1\n",
    "\n",
    "using sklearn pipeline module create a classification pipeline to classify the movie review's positive or negative.\n",
    "Note:\n",
    "\n",
    "1. use CountVectorizer for pre-processing the text.\n",
    "\n",
    "2. use Random Forest as the classifier with estimators as 50 and criterion as entropy.\n",
    "\n",
    "3. print the classification report.\n",
    "\n",
    "References:\n",
    "\n",
    "https://scikit-learn.org/stable/modules/generated/sklearn.ensemble.RandomForestClassifier.html\n",
    "\n",
    "https://scikit-learn.org/stable/modules/generated/sklearn.feature_extraction.text.CountVectorizer.html"
   ]
  },
  {
   "cell_type": "code",
   "execution_count": 67,
   "id": "9e8a911b",
   "metadata": {},
   "outputs": [
    {
     "name": "stdout",
     "output_type": "stream",
     "text": [
      "              precision    recall  f1-score   support\n",
      "\n",
      "           0       0.84      0.84      0.84      5073\n",
      "           1       0.83      0.83      0.83      4927\n",
      "\n",
      "    accuracy                           0.83     10000\n",
      "   macro avg       0.83      0.83      0.83     10000\n",
      "weighted avg       0.83      0.83      0.83     10000\n",
      "\n"
     ]
    }
   ],
   "source": [
    "#1. create a pipeline object\n",
    "\n",
    "clf=Pipeline([\n",
    "    ('vectorizer',CountVectorizer()),\n",
    "    ('Random forest',RandomForestClassifier(n_estimators=50,  criterion='entropy'))\n",
    "])\n",
    "\n",
    "\n",
    "#2. fit with X_train and y_train\n",
    "\n",
    "clf.fit(X_train,y_train)\n",
    "\n",
    "#3. get the predictions for X_test and store it in y_pred\n",
    "\n",
    "y_pred=clf.predict(X_test)\n",
    "\n",
    "#4. print the classfication report\n",
    "\n",
    "print(classification_report(y_test,y_pred))"
   ]
  },
  {
   "cell_type": "markdown",
   "id": "55107004",
   "metadata": {},
   "source": [
    "#### Exercise-2\n",
    "\n",
    "using sklearn pipeline module create a classification pipeline to classify the movie review's positive or negative..\n",
    "Note:\n",
    "\n",
    "1. use CountVectorizer for pre-processing the text.\n",
    "2. use KNN as the classifier with n_neighbors of 10 and metric as 'euclidean'.\n",
    "3. print the classification report.\n",
    "References:\n",
    "\n",
    "https://scikit-learn.org/stable/modules/generated/sklearn.feature_extraction.text.CountVectorizer.html\n",
    "https://scikit-learn.org/stable/modules/generated/sklearn.neighbors.KNeighborsClassifier.html"
   ]
  },
  {
   "cell_type": "code",
   "execution_count": 68,
   "id": "2d70d474",
   "metadata": {},
   "outputs": [
    {
     "name": "stdout",
     "output_type": "stream",
     "text": [
      "              precision    recall  f1-score   support\n",
      "\n",
      "           0       0.66      0.66      0.66      5073\n",
      "           1       0.65      0.65      0.65      4927\n",
      "\n",
      "    accuracy                           0.65     10000\n",
      "   macro avg       0.65      0.65      0.65     10000\n",
      "weighted avg       0.65      0.65      0.65     10000\n",
      "\n"
     ]
    }
   ],
   "source": [
    "#1. create a pipeline object\n",
    "\n",
    "clf=Pipeline([\n",
    "    ('vectorizer',CountVectorizer()),\n",
    "    ('KNN',KNeighborsClassifier(n_neighbors=10,  metric='euclidean'))\n",
    "])\n",
    "\n",
    "\n",
    "#2. fit with X_train and y_train\n",
    "\n",
    "clf.fit(X_train,y_train)\n",
    "\n",
    "#3. get the predictions for X_test and store it in y_pred\n",
    "\n",
    "y_pred=clf.predict(X_test)\n",
    "\n",
    "#4. print the classfication report\n",
    "\n",
    "print(classification_report(y_test,y_pred))"
   ]
  },
  {
   "cell_type": "markdown",
   "id": "7ee10d6e",
   "metadata": {},
   "source": [
    "#### Exercise-3\n",
    "\n",
    "using sklearn pipeline module create a classification pipeline to classify the movie review's positive or negative..\n",
    "Note:\n",
    "\n",
    "1. use CountVectorizer for pre-processing the text.\n",
    "2. use Multinomial Naive Bayes as the classifier.\n",
    "3. print the classification report.\n",
    "References:\n",
    "\n",
    "https://scikit-learn.org/stable/modules/generated/sklearn.feature_extraction.text.CountVectorizer.html\n",
    "https://scikit-learn.org/stable/modules/generated/sklearn.naive_bayes.MultinomialNB.html"
   ]
  },
  {
   "cell_type": "code",
   "execution_count": 69,
   "id": "9dad6ec3",
   "metadata": {},
   "outputs": [
    {
     "name": "stdout",
     "output_type": "stream",
     "text": [
      "              precision    recall  f1-score   support\n",
      "\n",
      "           0       0.83      0.88      0.86      5073\n",
      "           1       0.87      0.82      0.84      4927\n",
      "\n",
      "    accuracy                           0.85     10000\n",
      "   macro avg       0.85      0.85      0.85     10000\n",
      "weighted avg       0.85      0.85      0.85     10000\n",
      "\n"
     ]
    }
   ],
   "source": [
    "#1. create a pipeline object\n",
    "\n",
    "clf=Pipeline([\n",
    "    ('vectorizer',CountVectorizer()),\n",
    "    ('naive_bayes',MultinomialNB())\n",
    "])\n",
    "\n",
    "\n",
    "#2. fit with X_train and y_train\n",
    "\n",
    "clf.fit(X_train,y_train)\n",
    "\n",
    "#3. get the predictions for X_test and store it in y_pred\n",
    "\n",
    "y_pred=clf.predict(X_test)\n",
    "\n",
    "#4. print the classfication report\n",
    "\n",
    "print(classification_report(y_test,y_pred))"
   ]
  },
  {
   "cell_type": "code",
   "execution_count": null,
   "id": "55a96e60",
   "metadata": {},
   "outputs": [],
   "source": []
  },
  {
   "cell_type": "markdown",
   "id": "738f9218",
   "metadata": {},
   "source": [
    "### Can you write some observations of why model like KNN fails to produce good results unlike RandomForest and MultinomialNB?"
   ]
  },
  {
   "cell_type": "markdown",
   "id": "5947cf32",
   "metadata": {},
   "source": [
    "### Ans\n",
    "- Yes ,In KNN we select our nearest 10 points by the help of euclidean distance but it is not related to the nearest points it dependes on some type of wors for example Won $10 Million,You are Lucky Winner,90% discount etc\n",
    "\n",
    "- In this process, we convert text into a very high dimensional numeric vector using the technique of Bag of words.\n",
    "Model like K-Nearest Neighbours(KNN) doesn't work well with high dimensional data because with large number of dimensions, it becomes difficult for the algorithm to calculate distance in each dimension. In higher dimensional space, the cost to calculate distance becomes expensive and hence impacts the performance of model."
   ]
  },
  {
   "cell_type": "code",
   "execution_count": null,
   "id": "83501feb",
   "metadata": {},
   "outputs": [],
   "source": []
  }
 ],
 "metadata": {
  "kernelspec": {
   "display_name": "Python 3 (ipykernel)",
   "language": "python",
   "name": "python3"
  },
  "language_info": {
   "codemirror_mode": {
    "name": "ipython",
    "version": 3
   },
   "file_extension": ".py",
   "mimetype": "text/x-python",
   "name": "python",
   "nbconvert_exporter": "python",
   "pygments_lexer": "ipython3",
   "version": "3.10.9"
  }
 },
 "nbformat": 4,
 "nbformat_minor": 5
}
